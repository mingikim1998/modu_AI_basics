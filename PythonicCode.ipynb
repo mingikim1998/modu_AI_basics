{
 "cells": [
  {
   "cell_type": "code",
   "execution_count": null,
   "metadata": {},
   "outputs": [],
   "source": [
    "import time  # 직렬처리\n",
    "\n",
    "num_list = ['p1','p2', 'p3', 'p4']\n",
    "start = time.time()\n",
    "\n",
    "def count(name):\n",
    "    for i in range(0, 100000000):\n",
    "        a=1+2\n",
    "        \n",
    "    print(\"finish : \",name)\n",
    "\n",
    "for num in num_list:\n",
    "    count(num)\n",
    "\n",
    "print(\"time :\", time.time() - start)"
   ]
  },
  {
   "cell_type": "code",
   "execution_count": 1,
   "metadata": {},
   "outputs": [
    {
     "name": "stdout",
     "output_type": "stream",
     "text": [
      "finish :  p3\n",
      "finish :  p1\n",
      "finish : finish :   p4p2\n",
      "\n",
      "time : 2.018434524536133\n"
     ]
    }
   ],
   "source": [
    "import multiprocessing  # 병렬처리\n",
    "import time\n",
    "\n",
    "num_list = ['p1','p2', 'p3', 'p4']\n",
    "start = time.time()\n",
    "\n",
    "def count(name):\n",
    "    for i in range(0, 100000000):\n",
    "            a=1+2\n",
    "    print(\"finish : \",name)\n",
    "    \n",
    "\n",
    "if __name__ == '__main__':  # 코드 시작점을 여기로 하라는 명령어\n",
    "    pool = multiprocessing.Pool(processes = 4)  # 4개의 프로세스를 사용하도록\n",
    "    pool.map(count, num_list) # 병렬화, count 함수에 num_list의 원소들을 하나씩 투입\n",
    "    pool.close() #  더이상 pool을 통해서 새로운 작업을 추가하지 않을 때 사용\n",
    "    pool.join() # 프로세스가 종료될 때까지 대기하도록 지시하는 구문으로써 \n",
    "                # 병렬처리 작업이 끝날때까지 기다리도록\n",
    "\n",
    "print(\"time :\", time.time() - start)"
   ]
  },
  {
   "cell_type": "markdown",
   "metadata": {},
   "source": [
    "##### finish 부분이 이상하게 나오는 이유는 각 프로세스에 작업 코드가 거의 동시에 들어가고\n",
    "##### 처리되어 나오는 겨로가가 각 코어의 점유 상황 등으로 인해 시간차 발생하기 때문"
   ]
  },
  {
   "cell_type": "code",
   "execution_count": 2,
   "metadata": {},
   "outputs": [
    {
     "name": "stdout",
     "output_type": "stream",
     "text": [
      "최솟값, 최댓값은 :  [20, 40]\n",
      "최솟값은 :  20\n",
      "최댓값은 :  40\n"
     ]
    }
   ],
   "source": [
    "# 함수 만드는 법\n",
    "\n",
    "list_data = [30, 20, 30, 40]\n",
    "\n",
    "def minmax_function(x_list):\n",
    "        \n",
    "    def inner_min_function(x):\n",
    "        length = len(x)\n",
    "        min_result = x[0]\n",
    "        for i in range(length):\n",
    "            if min_result > x[i]:\n",
    "                min_result = x[i]\n",
    "        return min_result\n",
    "    \n",
    "    def inner_max_function(x):\n",
    "        length = len(x)\n",
    "        max_result = x[0]\n",
    "        for i in range(length):\n",
    "            if max_result < x[i]:\n",
    "                max_result = x[i]\n",
    "        return max_result\n",
    "        \n",
    "    x_min = inner_min_function(x_list)\n",
    "    x_max = inner_max_function(x_list)\n",
    "    \n",
    "    minmax_list = [x_min, x_max]\n",
    "\n",
    "    return minmax_list\n",
    "\n",
    "print(\"최솟값, 최댓값은 : \", minmax_function(list_data))\n",
    "print(\"최솟값은 : \", minmax_function(list_data)[0])\n",
    "print(\"최댓값은 : \", minmax_function(list_data)[1])"
   ]
  },
  {
   "cell_type": "code",
   "execution_count": 3,
   "metadata": {},
   "outputs": [
    {
     "name": "stdout",
     "output_type": "stream",
     "text": [
      "최솟값은 :  20\n",
      "최댓값은 :  40\n"
     ]
    }
   ],
   "source": [
    "list_data = [30, 20, 30, 40]\n",
    "\n",
    "def minmax_function(x_list):\n",
    "        \n",
    "    def inner_min_function(x):\n",
    "        length = len(x)\n",
    "        min_result = x[0]\n",
    "        for i in range(length):\n",
    "            if min_result > x[i]:\n",
    "                min_result = x[i]\n",
    "        return min_result\n",
    "    \n",
    "    def inner_max_function(x):\n",
    "        length = len(x)\n",
    "        max_result = x[0]\n",
    "        for i in range(length):\n",
    "            if max_result < x[i]:\n",
    "                max_result = x[i]\n",
    "        return max_result\n",
    "        \n",
    "    x_min = inner_min_function(x_list)\n",
    "    x_max = inner_max_function(x_list)\n",
    "    \n",
    "    return x_min, x_max\n",
    "\n",
    "min_value, max_value = minmax_function(list_data)\n",
    "\n",
    "print(\"최솟값은 : \", min_value)\n",
    "print(\"최댓값은 : \", max_value)"
   ]
  },
  {
   "cell_type": "code",
   "execution_count": 4,
   "metadata": {},
   "outputs": [
    {
     "name": "stdout",
     "output_type": "stream",
     "text": [
      "[2, 4, 6]\n"
     ]
    }
   ],
   "source": [
    "# 람다\n",
    "def list_mul(x):\n",
    "     return x * 2\n",
    "\n",
    "result = list(map(list_mul, [1, 2, 3]))\n",
    "print(result)\n",
    "\n",
    "#map_res = map(list_mul, [1, 2, 3])\n",
    "#print(map_res)\n",
    "#list_map_res = list(map_res)\n",
    "#print(list_map_res)\n",
    "\n",
    "# https://wikidocs.net/64  # 람다 식에 자주 사용되는 기능"
   ]
  },
  {
   "cell_type": "markdown",
   "metadata": {},
   "source": [
    "##### map()의 결과는 그냥 map 객체이므로 \n",
    "##### 결과창에서 직접 눈으로 확인할 수 있는 형태로 바꾸기 위해 \n",
    "##### list()를 사용해 리스트 형태로 변환해 줍니다\n",
    "---"
   ]
  },
  {
   "cell_type": "markdown",
   "metadata": {},
   "source": [
    "- 변수명 앞에 _(밑줄)이 붙으면 함수 등의 내부에서만 사용되는 변수\n",
    "- 라이브러리 혹은 파이썬 기본 키워드와의 충돌을 피하고 싶을 때\n",
    "#### \n",
    "---"
   ]
  },
  {
   "cell_type": "markdown",
   "metadata": {},
   "source": [
    "#### snake_case\n",
    "\n",
    "    모든 공백을 \"_\"로 바꾸고 모든 단어는 소문자입니다.\n",
    "    파이썬에서는 함수, 변수 등을 명명할 때 사용합니다.\n",
    "    ex) this_snake_case\n",
    "\n",
    "#### PascalCase\n",
    "\n",
    "    모든 단어가 대문자로 시작합니다.\n",
    "    UpperCamelCase, CapWords라고 불리기도 합니다.\n",
    "    파이썬에서는 클래스를 명명할 때 사용합니다.\n",
    "    ex) ThisPascalCase\n",
    "\n",
    "#### camelCase\n",
    "\n",
    "    처음은 소문자로 시작하고 이후의 모든 단어의 첫 글자는 대문자로 합니다.\n",
    "    lowerCamelCase라고 불리기도 합니다.\n",
    "    파이썬에서는 거의 사용하지 않습니다(java 등에서 사용)\n",
    "    ex) thisCamelCase"
   ]
  },
  {
   "cell_type": "code",
   "execution_count": null,
   "metadata": {},
   "outputs": [],
   "source": []
  }
 ],
 "metadata": {
  "kernelspec": {
   "display_name": "Python 3",
   "language": "python",
   "name": "python3"
  },
  "language_info": {
   "codemirror_mode": {
    "name": "ipython",
    "version": 3
   },
   "file_extension": ".py",
   "mimetype": "text/x-python",
   "name": "python",
   "nbconvert_exporter": "python",
   "pygments_lexer": "ipython3",
   "version": "3.7.8"
  }
 },
 "nbformat": 4,
 "nbformat_minor": 4
}
