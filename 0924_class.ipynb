{
 "cells": [
  {
   "cell_type": "code",
   "execution_count": 1,
   "metadata": {},
   "outputs": [
    {
     "name": "stdout",
     "output_type": "stream",
     "text": [
      "94885712725488\n",
      "94885712725488\n",
      "140080978123408\n",
      "140080978123728\n",
      "<class 'type'>\n",
      "<class '__main__.Car'>\n"
     ]
    }
   ],
   "source": [
    "class Car:\n",
    "    pass\n",
    "\n",
    "class Car():\n",
    "    pass\n",
    "\n",
    "#id(Car)는 여러번 호출해도 같은 값이 얻어집니다. \n",
    "print(id(Car))\n",
    "print(id(Car))\n",
    "\n",
    "#id(Car())는 Car()가 호출될 때마다 다른 값이 얻어집니다. \n",
    "print(id(Car()))\n",
    "print(id(Car()))\n",
    "\n",
    "# 두 객체의 type을 살펴봅니다. \n",
    "print(type(Car))\n",
    "print(type(Car()))"
   ]
  },
  {
   "cell_type": "code",
   "execution_count": 2,
   "metadata": {},
   "outputs": [
    {
     "name": "stdout",
     "output_type": "stream",
     "text": [
      "140080978147472\n",
      "140080978147408\n"
     ]
    }
   ],
   "source": [
    "mycar = Car() # 클래스로 객체를 만드는 것을 \"인스턴스화\"라고 합니다.\n",
    "mycar2 = Car()\n",
    "print(id(mycar))\n",
    "print(id(mycar2))\n",
    "\n",
    "#클래스명 표기법: 카멜 케이스 MyCar\n",
    "#함수명 표기법: 스네이크 케이스 my_car"
   ]
  },
  {
   "cell_type": "code",
   "execution_count": 1,
   "metadata": {},
   "outputs": [],
   "source": [
    "class Car:\n",
    "    color = 'red'\n",
    "    category = 'sports car'\n",
    "\n",
    "    def drive(self):\n",
    "        print(\"I'm driving\")\n",
    "\n",
    "    def accel(self, speed_up, current_speed=10):\n",
    "        self.speed_up = speed_up\n",
    "        self.current_speed = current_speed + speed_up\n",
    "        print(\"speed up\", self.speed_up, \"driving at\", self.current_speed)"
   ]
  },
  {
   "cell_type": "code",
   "execution_count": 2,
   "metadata": {},
   "outputs": [
    {
     "name": "stdout",
     "output_type": "stream",
     "text": [
      "red\n"
     ]
    }
   ],
   "source": [
    "mycar = Car()\n",
    "print(mycar.color)"
   ]
  },
  {
   "cell_type": "code",
   "execution_count": 3,
   "metadata": {},
   "outputs": [
    {
     "name": "stdout",
     "output_type": "stream",
     "text": [
      "I'm driving\n",
      "speed up 5 driving at 15\n"
     ]
    }
   ],
   "source": [
    "mycar.drive()\n",
    "mycar.accel(5)"
   ]
  },
  {
   "cell_type": "code",
   "execution_count": 4,
   "metadata": {},
   "outputs": [
    {
     "name": "stdout",
     "output_type": "stream",
     "text": [
      "I'm driving\n",
      "I'm driving\n"
     ]
    }
   ],
   "source": [
    "mycar.drive()\n",
    "Car.drive(mycar) # 가능하지만 이렇게 구현하지 않음."
   ]
  },
  {
   "cell_type": "code",
   "execution_count": 5,
   "metadata": {},
   "outputs": [],
   "source": [
    "class Test:\n",
    "    def run1(self):\n",
    "        print(\"run1\")\n",
    "\n",
    "    def run2():  # self 작성하지 않으면 에러 메시지\n",
    "        print(\"run2\")\n",
    "\n",
    "t = Test()"
   ]
  },
  {
   "cell_type": "code",
   "execution_count": 6,
   "metadata": {},
   "outputs": [],
   "source": [
    "class Test2:\n",
    "    def run1(self, a):\n",
    "        self.a = float(a) * 10\n",
    "        print(self.a)\n",
    "\n",
    "    def run2(self, b):\n",
    "        b = float(b) + 10\n",
    "        print(self.b)\n",
    "        \n",
    "t = Test2()"
   ]
  },
  {
   "cell_type": "code",
   "execution_count": 7,
   "metadata": {},
   "outputs": [],
   "source": [
    "class Test2:\n",
    "    def run1(self, a):\n",
    "        self.a = float(a) * 10\n",
    "        print(self.a)\n",
    "\n",
    "    def run2(self, b):\n",
    "        self.b = float(b) + 10\n",
    "        print(self.b)\n",
    "        \n",
    "t = Test2()"
   ]
  },
  {
   "cell_type": "code",
   "execution_count": 8,
   "metadata": {},
   "outputs": [
    {
     "name": "stdout",
     "output_type": "stream",
     "text": [
      "10.0\n"
     ]
    }
   ],
   "source": [
    "t.run1(1)"
   ]
  },
  {
   "cell_type": "code",
   "execution_count": 9,
   "metadata": {},
   "outputs": [
    {
     "name": "stdout",
     "output_type": "stream",
     "text": [
      "11.0\n"
     ]
    }
   ],
   "source": [
    "t.run2(1)"
   ]
  },
  {
   "cell_type": "markdown",
   "metadata": {},
   "source": [
    "### self는 자기 자신입니다.\n",
    "### 클래스에 의해 생성된 객체(인스턴스)를 가리킵니다.\n",
    "### 클래스의 메서드는 인자로 해당 인스턴스(self)를 받아야 합니다.\n",
    "### 메소드를 호출할 때는 self 인자를 전달하지 않습니다. self의 값은 인터프리터가 제공합니다.\n",
    "### 인스턴스 변수를 정의할 때에는 접두사 self.을 붙여줍니다."
   ]
  },
  {
   "cell_type": "code",
   "execution_count": 10,
   "metadata": {},
   "outputs": [],
   "source": [
    "class Car:\n",
    "    color = 'red'\n",
    "    category = 'sports car'\n",
    "\n",
    "    def drive(self):\n",
    "        print(\"I'm driving\")\n",
    "\n",
    "    def accel(self, speed_up, current_speed=10):\n",
    "        self.speed_up = speed_up\n",
    "        self.current_speed = current_speed + self.speed_up\n",
    "        print(\"speed up\", self.speed_up, \"driving at\", self.current_speed)"
   ]
  },
  {
   "cell_type": "code",
   "execution_count": 11,
   "metadata": {},
   "outputs": [],
   "source": [
    "class Car2:\n",
    "    def __init__(self, color, category):\n",
    "        self.color = color\n",
    "        self.category = category\n",
    "\n",
    "    def drive(self):\n",
    "        print(\"I'm driving\")\n",
    "\n",
    "    def accel(self, speed_up, current_speed=10):\n",
    "        self.speed_up = speed_up\n",
    "        self.current_speed = current_speed + self.speed_up\n",
    "        print(\"speed up\", self.speed_up, \"driving at\", self.current_speed)"
   ]
  },
  {
   "cell_type": "code",
   "execution_count": 12,
   "metadata": {},
   "outputs": [],
   "source": [
    "#인스턴스 객체 선언\n",
    "car1 = Car()\n",
    "car2 = Car2('yellow', 'sedan')"
   ]
  },
  {
   "cell_type": "code",
   "execution_count": 13,
   "metadata": {},
   "outputs": [],
   "source": [
    "class Car2:\n",
    "    def __init__(self, color='red', category='sprots car'):\n",
    "        self.color = color\n",
    "        self.category = category\n",
    "# 기본값 지정"
   ]
  },
  {
   "cell_type": "code",
   "execution_count": 14,
   "metadata": {},
   "outputs": [],
   "source": [
    "class Car:\n",
    "    Manufacture = \"India\"\n",
    "\n",
    "    def __init__(self, color, category='sedan'):\n",
    "        self.color = color\n",
    "        self.category = category"
   ]
  },
  {
   "cell_type": "code",
   "execution_count": 15,
   "metadata": {},
   "outputs": [
    {
     "name": "stdout",
     "output_type": "stream",
     "text": [
      "India red sports car\n",
      "India white sedan\n"
     ]
    }
   ],
   "source": [
    "car1 = Car('red','sports car')\n",
    "car2 = Car('white')\n",
    "print(car1.Manufacture, car1.color, car1.category)\n",
    "print(car2.Manufacture, car2.color, car2.category)"
   ]
  },
  {
   "cell_type": "markdown",
   "metadata": {},
   "source": [
    "#### Car 클래스에 만들어진 car 객체의 제조사는 항상 같은 곳인데 색상과 종류가 각각 다를 수 있다면, 제조사는 클래스 변수로 선언하고 색상과 종류 속성은 인스턴스 변수로 선언하여 초기화가 가능하게 구현합니다.\n",
    "\n",
    "#### 즉! 객체 단위로 변경되는 변수는 인스턴스 변수로 선언하세욧!"
   ]
  },
  {
   "cell_type": "code",
   "execution_count": 17,
   "metadata": {},
   "outputs": [],
   "source": [
    "class Car:\n",
    "    Manufacture = \"India\"\n",
    "\n",
    "    def __init__(self, color='red', category='sedan'):\n",
    "        self.color = color\n",
    "        self.category = category\n",
    "\n",
    "    def drive(self):\n",
    "        print(\"I'm driving\")\n",
    "\n",
    "    def accel(self, speed_up, current_speed=10):\n",
    "        self.speed_up = speed_up\n",
    "        self.current_speed = current_speed + self.speed_up\n",
    "        print(\"speed up\", self.speed_up, \"driving at\", self.current_speed)"
   ]
  },
  {
   "cell_type": "code",
   "execution_count": 18,
   "metadata": {},
   "outputs": [
    {
     "name": "stdout",
     "output_type": "stream",
     "text": [
      "I'm driving\n",
      "speed up 10 driving at 20\n"
     ]
    }
   ],
   "source": [
    "class NewCar(Car): # 상속\n",
    "    pass\n",
    "\n",
    "car = NewCar()\n",
    "car.drive()\n",
    "car.accel(10)"
   ]
  },
  {
   "cell_type": "code",
   "execution_count": 19,
   "metadata": {},
   "outputs": [
    {
     "data": {
      "text/plain": [
       "'Porsche'"
      ]
     },
     "execution_count": 19,
     "metadata": {},
     "output_type": "execute_result"
    }
   ],
   "source": [
    "class NewCar(Car):\n",
    "    maker = 'Porsche'\n",
    "\n",
    "car = NewCar()\n",
    "car.maker"
   ]
  },
  {
   "cell_type": "markdown",
   "metadata": {},
   "source": [
    "##### 상속 받은 클래스를 \"자식 클래스\", \"서브 클래스(sub class)\", \"파생된 클래스(derived class)\"라고 합니다.\n",
    "\n",
    "##### 기존 클래스를 \"부모 클래스\", \"슈퍼 클래스(super class)\", \"베이스 클래스(base class)\" 라고 합니다."
   ]
  },
  {
   "cell_type": "markdown",
   "metadata": {},
   "source": [
    "##### <클래스 상속>\n",
    "\n",
    "+ 메소드 추가하기(add)\n",
    "+ 메소드 재정의하기(override)\n",
    "+ 부모 메소드 호출하기(super())"
   ]
  },
  {
   "cell_type": "code",
   "execution_count": 20,
   "metadata": {},
   "outputs": [],
   "source": [
    "class NewCar(Car):\n",
    "    def fly(self):\n",
    "        print(\"I'm flying!! This is the new car!!\")"
   ]
  },
  {
   "cell_type": "code",
   "execution_count": 21,
   "metadata": {},
   "outputs": [],
   "source": [
    "class NewCar(Car):\n",
    "    def fly(self):\n",
    "        print(\"I'm flying!! This is the new car!!\")\n",
    "\n",
    "    def drive(self): # override, 재정의\n",
    "        print(\"I'm driving and can fly\")"
   ]
  },
  {
   "cell_type": "code",
   "execution_count": 22,
   "metadata": {},
   "outputs": [],
   "source": [
    "class NewCar(Car):\n",
    "    def __init__(self, color, category, maker):\n",
    "        super().__init__(color, category)\n",
    "        self.maker = maker\n",
    "\n",
    "    def fly(self):\n",
    "        print(\"I'm flying!! This is the new car!!\")\n",
    "\n",
    "    def accel(self, speed_up, level=1, current_speed=10):\n",
    "        self.boost[level] = {1 : 0, 2 : 30, 3 : 50}\n",
    "        self.speed_up = speed_up + self.boost[level]\n",
    "        self.current_speed = current_speed + self.speed_up\n",
    "        print(\"speed up\", self.speed_up, \"driving at\", self.current_speed)"
   ]
  },
  {
   "cell_type": "markdown",
   "metadata": {},
   "source": [
    "+ 지금은 부모 클래스에서 color를 이름으로 받지만 color를 RGB 값으로 받도록 바꾸고 싶다고 합시다. \n",
    "+ 자동차 클래스를 상속받은 모든 클래스에서 color는 RGB 값으로 받게 하고 싶습니다. \n",
    "+ 만약 메소드를 오버라이드 했다면 상속받은 클래스 하나하나의 초기화 코드를 변경해 주어야 할 겁니다. \n",
    "- 이렇게 super() 를 사용해 변수를 초기화하면 부모 클래스만 변경하면 되겠죠?"
   ]
  },
  {
   "cell_type": "code",
   "execution_count": 23,
   "metadata": {},
   "outputs": [
    {
     "name": "stdout",
     "output_type": "stream",
     "text": [
      "2020Y sports car\n"
     ]
    }
   ],
   "source": [
    "class Car:\n",
    "    Manufacture = \"India\"\n",
    "\n",
    "    def __init__(self, color='red', category='sedan'):\n",
    "        self.color = color \n",
    "        self.category = '2020Y '+ category\n",
    "\n",
    "\n",
    "class NewCar(Car):\n",
    "    def __init__(self, color, category, maker):\n",
    "        super().__init__(color, category)\n",
    "        self.maker = maker\n",
    "\n",
    "newcar = NewCar('red','sports car', 'Kia')\n",
    "print(newcar.category)"
   ]
  },
  {
   "cell_type": "markdown",
   "metadata": {},
   "source": [
    "#### 1. 클래스 선언\n",
    "\n",
    "#### 2. 클래스 사용\n",
    "\n",
    "   \"객체의 인스턴스\"\n",
    "#### 3. 클래스는 동작과 상태를 갖는다.\n",
    "\n",
    "   상태(State): 속성(Attribute)로 표현, 일명 변수\n",
    "\n",
    "   동작(Behavior): Methode로 표현, 일명 함수\n",
    "\n",
    "   객체는 동작은 공유하지만 상태는 공유하지 않는다.\n",
    "\n",
    "#### 4. 생성자 __init__\n",
    "\n",
    "#### 5. 클래스 변수와 인스턴스 변수\n",
    "\n",
    "   클래스에 선언된 속성은 클래스 변수라고 하며 이 클래스에 의해 생성된 모든 객체에 대해 같은 속성(값)을 갖는다.\n",
    "   객체가 인스턴스화 될 때마다 새로운 값이 할당되며 서로 다른 객체 간에는 속성(값)을 공유할 수 없다.\n",
    "#### 6. 상속\n",
    "\n",
    "   메소드 추가, 메소드 오버라이드, 부모메소드 호출하기"
   ]
  },
  {
   "cell_type": "code",
   "execution_count": null,
   "metadata": {},
   "outputs": [],
   "source": []
  }
 ],
 "metadata": {
  "kernelspec": {
   "display_name": "Python 3",
   "language": "python",
   "name": "python3"
  },
  "language_info": {
   "codemirror_mode": {
    "name": "ipython",
    "version": 3
   },
   "file_extension": ".py",
   "mimetype": "text/x-python",
   "name": "python",
   "nbconvert_exporter": "python",
   "pygments_lexer": "ipython3",
   "version": "3.7.8"
  }
 },
 "nbformat": 4,
 "nbformat_minor": 4
}
