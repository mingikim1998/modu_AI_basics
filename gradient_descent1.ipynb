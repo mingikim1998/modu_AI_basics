{
 "cells": [
  {
   "cell_type": "code",
   "execution_count": 4,
   "metadata": {},
   "outputs": [],
   "source": [
    "def derivative(f,var):\n",
    "    h = 1e-5  # 띄어쓰기 하지마 \n",
    "    der = (f(var + h) - f(var-h) / 2 * h)\n",
    "    return der\n",
    "\n",
    "# 0으로 근사치를 구할 때 1e-5 정도의 값을 사용. 나중에 이 값이 반복되면 오차 발생할 수 있으므로 경우에 따라 조절\n",
    "\n"
   ]
  },
  {
   "cell_type": "code",
   "execution_count": 5,
   "metadata": {},
   "outputs": [
    {
     "data": {
      "text/plain": [
       "9.0000150004"
      ]
     },
     "execution_count": 5,
     "metadata": {},
     "output_type": "execute_result"
    }
   ],
   "source": [
    "def func(x):\n",
    "    return x**2\n",
    "\n",
    "derfunc = derivative(func,3)\n",
    "\n",
    "derfunc"
   ]
  },
  {
   "cell_type": "code",
   "execution_count": 7,
   "metadata": {},
   "outputs": [],
   "source": [
    "def func2(x):\n",
    "    return (x**3 + 10)\n",
    "\n",
    "def derivative(f, var):\n",
    "    h = 1e-5\n",
    "    der = (f(var + h) - f(var-h) / 2*h)\n",
    "    return der"
   ]
  },
  {
   "cell_type": "code",
   "execution_count": null,
   "metadata": {},
   "outputs": [],
   "source": []
  }
 ],
 "metadata": {
  "kernelspec": {
   "display_name": "Python 3",
   "language": "python",
   "name": "python3"
  },
  "language_info": {
   "codemirror_mode": {
    "name": "ipython",
    "version": 3
   },
   "file_extension": ".py",
   "mimetype": "text/x-python",
   "name": "python",
   "nbconvert_exporter": "python",
   "pygments_lexer": "ipython3",
   "version": "3.7.8"
  }
 },
 "nbformat": 4,
 "nbformat_minor": 4
}
