{
 "cells": [
  {
   "cell_type": "markdown",
   "metadata": {},
   "source": [
    "# 자기소개\n",
    "\n",
    "* 레퍼지토리가 잘못되는 바람에 다시 작성...\n",
    "\n",
    "### 좋아하는 것\n",
    "---\n",
    "- 수영, 스노우보딩, 풋살\n",
    "\n",
    "### 앞으로의 목표\n",
    "---\n",
    "\n",
    "- 인턴 업무 익히기\n",
    "- 딥러닝 프로젝트 경험 쌓기\n",
    "- 정보처리기사\n",
    "- 컴활1급 실기"
   ]
  },
  {
   "cell_type": "markdown",
   "metadata": {},
   "source": [
    "| 준비 | 내용 | 우선순위 |\n",
    "|---|:---:|---:|\n",
    "|'인턴'| 최우선순위 / 지속적인 개선과 최적화 강구 | 1 |\n",
    "|'AI'| 기본을 확실히 / 교수님이 식을 이해하라고 하시던데.. | 2 |\n",
    "|'학교'| 이놈의 학교를 언제 졸업하지 | 3 |"
   ]
  },
  {
   "cell_type": "code",
   "execution_count": null,
   "metadata": {},
   "outputs": [],
   "source": []
  }
 ],
 "metadata": {
  "kernelspec": {
   "display_name": "Python 3",
   "language": "python",
   "name": "python3"
  },
  "language_info": {
   "codemirror_mode": {
    "name": "ipython",
    "version": 3
   },
   "file_extension": ".py",
   "mimetype": "text/x-python",
   "name": "python",
   "nbconvert_exporter": "python",
   "pygments_lexer": "ipython3",
   "version": "3.7.6"
  }
 },
 "nbformat": 4,
 "nbformat_minor": 4
}
