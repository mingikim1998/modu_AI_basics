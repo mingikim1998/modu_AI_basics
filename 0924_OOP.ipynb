{
 "cells": [
  {
   "cell_type": "code",
   "execution_count": 1,
   "metadata": {},
   "outputs": [
    {
     "data": {
      "text/plain": [
       "'cat'"
      ]
     },
     "execution_count": 1,
     "metadata": {},
     "output_type": "execute_result"
    }
   ],
   "source": [
    "myword = 'cat'\n",
    "myword"
   ]
  },
  {
   "cell_type": "code",
   "execution_count": 2,
   "metadata": {},
   "outputs": [
    {
     "data": {
      "text/plain": [
       "'CAT'"
      ]
     },
     "execution_count": 2,
     "metadata": {},
     "output_type": "execute_result"
    }
   ],
   "source": [
    "myword.upper()"
   ]
  },
  {
   "cell_type": "code",
   "execution_count": 3,
   "metadata": {},
   "outputs": [
    {
     "name": "stdout",
     "output_type": "stream",
     "text": [
      "yes\n"
     ]
    }
   ],
   "source": [
    "if 'cat'.upper() == 'cat'.upper():\n",
    "    print(\"yes\")\n",
    "else:\n",
    "    pass"
   ]
  },
  {
   "cell_type": "code",
   "execution_count": 5,
   "metadata": {},
   "outputs": [
    {
     "name": "stdout",
     "output_type": "stream",
     "text": [
      "no\n"
     ]
    }
   ],
   "source": [
    "if 'cat'.upper() is 'cat'.upper():\n",
    "    print(\"yes\")\n",
    "else:\n",
    "    print(\"no\")"
   ]
  },
  {
   "cell_type": "code",
   "execution_count": 7,
   "metadata": {},
   "outputs": [
    {
     "data": {
      "text/plain": [
       "4"
      ]
     },
     "execution_count": 7,
     "metadata": {},
     "output_type": "execute_result"
    }
   ],
   "source": [
    "var = 4\n",
    "var"
   ]
  },
  {
   "cell_type": "code",
   "execution_count": 11,
   "metadata": {},
   "outputs": [
    {
     "name": "stdout",
     "output_type": "stream",
     "text": [
      "94427688354656 \n",
      " 94427688354656\n"
     ]
    }
   ],
   "source": [
    "print(id(var),\"\\n\",id(4)) #id 값은 pc마다 다릅니다."
   ]
  },
  {
   "cell_type": "code",
   "execution_count": 12,
   "metadata": {},
   "outputs": [
    {
     "data": {
      "text/plain": [
       "True"
      ]
     },
     "execution_count": 12,
     "metadata": {},
     "output_type": "execute_result"
    }
   ],
   "source": [
    "id(var) == id(4)"
   ]
  },
  {
   "cell_type": "code",
   "execution_count": 13,
   "metadata": {},
   "outputs": [
    {
     "data": {
      "text/plain": [
       "False"
      ]
     },
     "execution_count": 13,
     "metadata": {},
     "output_type": "execute_result"
    }
   ],
   "source": [
    "id(var) is id(4)"
   ]
  },
  {
   "cell_type": "code",
   "execution_count": 14,
   "metadata": {},
   "outputs": [
    {
     "name": "stdout",
     "output_type": "stream",
     "text": [
      "[1, 2, 3, 4]\n"
     ]
    }
   ],
   "source": [
    "mylist = [1,2,3]\n",
    "var = mylist\n",
    "var\n",
    "\n",
    "mylist.append(4)\n",
    "print(mylist)"
   ]
  },
  {
   "cell_type": "code",
   "execution_count": 15,
   "metadata": {},
   "outputs": [
    {
     "data": {
      "text/plain": [
       "'\\n변수 var에 mylist를 할당하면 var와 mylist는 [1,2,3,4]라는 같은 데이터를 참조하게 됩니다. \\n따라서 var와 mylist는 id 값이 같으며, \\nvar도 mylist의 연산으로 원소가 추가된 [1,2,3,4] 데이터를 참조하게 됩니다.\\n\\n그리고 이렇게 원본 데이터는 그대로 두고, \\n참조하는 데이터의 id만을 복사하는 것을 얕은 복사 라고 합니다.\\n\\n'"
      ]
     },
     "execution_count": 15,
     "metadata": {},
     "output_type": "execute_result"
    }
   ],
   "source": [
    "'''\n",
    "변수 var에 mylist를 할당하면 var와 mylist는 [1,2,3,4]라는 같은 데이터를 참조하게 됩니다. \n",
    "따라서 var와 mylist는 id 값이 같으며, \n",
    "var도 mylist의 연산으로 원소가 추가된 [1,2,3,4] 데이터를 참조하게 됩니다.\n",
    "\n",
    "그리고 이렇게 원본 데이터는 그대로 두고, \n",
    "참조하는 데이터의 id만을 복사하는 것을 얕은 복사 라고 합니다.\n",
    "\n",
    "'''"
   ]
  },
  {
   "cell_type": "code",
   "execution_count": 16,
   "metadata": {},
   "outputs": [
    {
     "data": {
      "text/plain": [
       "'\\n파이썬에서는 모든 것(부울, 정수, 실수, 데이터구조(list,tuple,dict,set…), 함수, 프로그램, 모듈)이 객체다.\\n\\n객체는 상태(state)를 나타내는 속성(attribute)과 동작(behavior)을 나타내는 메소드(method)가 있다.\\n\\n객체의 속성은 변수로 구현된다. 객체의 메소드는 함수로 구현된다.\\n'"
      ]
     },
     "execution_count": 16,
     "metadata": {},
     "output_type": "execute_result"
    }
   ],
   "source": [
    "'''\n",
    "파이썬에서는 모든 것(부울, 정수, 실수, 데이터구조(list,tuple,dict,set…), 함수, 프로그램, 모듈)이 객체다.\n",
    "\n",
    "객체는 상태(state)를 나타내는 속성(attribute)과 동작(behavior)을 나타내는 메소드(method)가 있다.\n",
    "\n",
    "객체의 속성은 변수로 구현된다. 객체의 메소드는 함수로 구현된다.\n",
    "'''"
   ]
  },
  {
   "cell_type": "code",
   "execution_count": null,
   "metadata": {},
   "outputs": [],
   "source": []
  }
 ],
 "metadata": {
  "kernelspec": {
   "display_name": "Python 3",
   "language": "python",
   "name": "python3"
  },
  "language_info": {
   "codemirror_mode": {
    "name": "ipython",
    "version": 3
   },
   "file_extension": ".py",
   "mimetype": "text/x-python",
   "name": "python",
   "nbconvert_exporter": "python",
   "pygments_lexer": "ipython3",
   "version": "3.7.6"
  }
 },
 "nbformat": 4,
 "nbformat_minor": 4
}
